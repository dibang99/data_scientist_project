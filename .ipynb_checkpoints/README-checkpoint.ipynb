{
 "cells": [
  {
   "cell_type": "markdown",
   "id": "2166668d-d2f1-4419-a813-cf5fdab7deb5",
   "metadata": {},
   "source": [
    "# Unveiling Trends in Ford GoBike Trip Data"
   ]
  },
  {
   "cell_type": "markdown",
   "id": "90d9d1b1-9a9d-447d-996d-cdda8c4c9c19",
   "metadata": {},
   "source": [
    "![Ford GoBike](./image/Ford_GoBikes.jpg)"
   ]
  },
  {
   "cell_type": "markdown",
   "id": "6ef408e6-cf7f-49ab-bc49-3beae8b78545",
   "metadata": {},
   "source": [
    "Link blog: [Link Blog](https://github.com/dibang99/data_scientist_project/blog_post.md)"
   ]
  },
  {
   "cell_type": "markdown",
   "id": "3b520c44-7c17-4197-8775-fc07c749745d",
   "metadata": {},
   "source": [
    "## Domain Background"
   ]
  },
  {
   "cell_type": "markdown",
   "id": "132ca078-8e98-4a15-910e-e8e9bfea17f6",
   "metadata": {},
   "source": [
    "Ford GoBike is a bicycle-sharing service operating in the San Francisco Bay Area, offering residents and visitors a sustainable transportation option. The system allows users to rent bikes for short-term use, providing an eco-friendly alternative to traditional transportation methods. The dataset we’re examining includes detailed trip information such as duration, start and end times, stations, and user demographics."
   ]
  },
  {
   "cell_type": "markdown",
   "id": "772301e8-3b8f-4dda-b059-621898b1e1f0",
   "metadata": {},
   "source": [
    "## Problem Statement"
   ]
  },
  {
   "cell_type": "markdown",
   "id": "355bb19c-cfb7-4f8a-93ce-51ec3d6cd77f",
   "metadata": {},
   "source": [
    "With the wealth of data available from the Ford GoBike system, several key questions arise:"
   ]
  },
  {
   "cell_type": "markdown",
   "id": "5468248e-c016-481d-b42d-149d1e8ed616",
   "metadata": {},
   "source": [
    "1. **How are trip durations distributed among users?**\n",
    "   Understanding the duration of bike trips helps in assessing user behavior and system performance.\n",
    "   \n",
    "2. **What is the distribution of user types in the GoBike sharing system?**\n",
    "   Identifying the proportion of different user types—subscribers versus customers—can shed light on user engagement and retention strategies.\n",
    "   \n",
    "3. **How does bike ride usage vary across different age groups?**\n",
    "   Knowing which age groups are most active can assist in tailoring services and marketing efforts to different demographics."
   ]
  },
  {
   "cell_type": "markdown",
   "id": "2051e809-ea7c-4d6a-ad4e-c116d2089cf0",
   "metadata": {},
   "source": [
    "## Dataset"
   ]
  },
  {
   "cell_type": "markdown",
   "id": "12b468de-a6e7-4016-8bea-43cc0047e7de",
   "metadata": {},
   "source": [
    "The data collect from Kaggle. You can access the dataset and more details [Ford GoBike System Data](https://www.kaggle.com/datasets/ahmedmohameddawoud/ford-gobike-system-data)"
   ]
  },
  {
   "cell_type": "markdown",
   "id": "b8e19d93-0252-450f-b225-44f9514ef3e7",
   "metadata": {},
   "source": [
    "## Solution Statement"
   ]
  },
  {
   "cell_type": "markdown",
   "id": "46ffb65b-750e-440d-b54a-5208b5623bb2",
   "metadata": {},
   "source": [
    "To address these questions, we analyzed the Ford GoBike dataset and visualized the results"
   ]
  },
  {
   "cell_type": "markdown",
   "id": "6ecf5ffa-5014-4cd1-b564-267c8299d020",
   "metadata": {},
   "source": [
    "### Libraries used"
   ]
  },
  {
   "cell_type": "markdown",
   "id": "0a7f247d-6d0e-4c55-bf87-409f6ec13df6",
   "metadata": {},
   "source": [
    "- **pandas**: For data manipulation and analysis.\n",
    "- **matplotlib**: For creating static, animated, and interactive visualizations in Python.\n",
    "- **numpy**: For numerical operations and handling arrays.\n",
    "- **seaborn**: For statistical data visualization.\n",
    "- **folium**: For interactive maps.\n",
    "- **sklearn.preprocessing.LabelEncoder**: For encoding categorical variables into numeric labels."
   ]
  },
  {
   "cell_type": "markdown",
   "id": "96fd3321-5bf2-4fc4-9840-88c983643656",
   "metadata": {},
   "source": [
    "### Files in the Repository"
   ]
  },
  {
   "cell_type": "markdown",
   "id": "5b4af940-3f42-4447-a1ac-853ad02c1aa6",
   "metadata": {},
   "source": [
    "- `data/201902-fordgobike-tripdata.csv`: The main dataset containing trip data from the GoBike system.\n",
    "- `writing_data_scientist_blog.ipynb`: Jupyter Notebook containing the analysis, visualizations, and insights derived from the dataset.\n",
    "- `image`: Directory containing visualizations such as histograms, pie charts, and heatmaps.\n",
    "- `README.md`: This file, providing an overview of the project, libraries used, and file descriptions.\n",
    "- `blog_post.md`: This file is blog of project"
   ]
  },
  {
   "cell_type": "markdown",
   "id": "fcaeeebf-2643-4ea9-90cb-c4f6d6e976bc",
   "metadata": {},
   "source": [
    "### Summary of Results"
   ]
  },
  {
   "cell_type": "markdown",
   "id": "00dcefa0-9b95-45aa-8249-c34ba58c1d1c",
   "metadata": {},
   "source": [
    "1. **Trip Duration Distribution**:\n",
    "   - The histogram of trip durations shows that most trips are relatively short, with a long tail extending towards longer durations. This indicates that the majority of bike rides are quick, but there are also a significant number of longer rides.\n",
    "\n",
    "2. **User Type Distribution**:\n",
    "   - The pie chart reveals that subscribers significantly outnumber customers, with subscribers being nearly nine times more common. This suggests a high level of engagement among regular users.\n",
    "\n",
    "3. **Age Group Usage**:\n",
    "   - The bar plot indicates which age groups are most active in using the bike-sharing service. The plot helps in understanding the distribution of bike usage across different age ranges.\n",
    "\n",
    "4. **Correlation Insights**:\n",
    "   - The heatmap shows a very weak positive correlation between ride duration and user age, and no significant correlation between ride duration and the latitude of the starting station. This suggests that age and starting station location have minimal impact on ride duration."
   ]
  },
  {
   "cell_type": "markdown",
   "id": "94bcae03-d865-41a6-b154-fa86263432a1",
   "metadata": {},
   "source": [
    "## Acknowledgements\n",
    "\n",
    "The dataset used in this analysis was collected from Kaggle. You can access the dataset and more details [here](https://www.kaggle.com/datasets/ahmedmohameddawoud/ford-gobike-system-data).\n",
    "\n",
    "Special thanks to the Kaggle community and data contributors for making such valuable datasets available for analysis."
   ]
  }
 ],
 "metadata": {
  "kernelspec": {
   "display_name": "Python 3 (ipykernel)",
   "language": "python",
   "name": "python3"
  },
  "language_info": {
   "codemirror_mode": {
    "name": "ipython",
    "version": 3
   },
   "file_extension": ".py",
   "mimetype": "text/x-python",
   "name": "python",
   "nbconvert_exporter": "python",
   "pygments_lexer": "ipython3",
   "version": "3.11.4"
  }
 },
 "nbformat": 4,
 "nbformat_minor": 5
}
