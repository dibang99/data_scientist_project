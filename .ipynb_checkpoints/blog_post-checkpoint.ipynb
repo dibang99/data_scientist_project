{
 "cells": [
  {
   "cell_type": "markdown",
   "id": "ad553f86-74df-451a-b140-1fd7e559ad73",
   "metadata": {},
   "source": [
    "# Unveiling Trends in Ford GoBike Trip Data"
   ]
  },
  {
   "cell_type": "markdown",
   "id": "04885a1b-1c94-41d6-9b37-43ece29be3b1",
   "metadata": {},
   "source": [
    "![Ford GoBike](./image/Ford_GoBikes.jpg)"
   ]
  },
  {
   "cell_type": "markdown",
   "id": "25d9eca1-a79e-4b0b-8648-00570f6cc06a",
   "metadata": {},
   "source": [
    "## Domain Background"
   ]
  },
  {
   "cell_type": "markdown",
   "id": "0d57ec9a-7053-4cbb-a141-8c25c0919d6c",
   "metadata": {},
   "source": [
    "Ford GoBike is a bicycle-sharing service operating in the San Francisco Bay Area, offering residents and visitors a sustainable transportation option. The system allows users to rent bikes for short-term use, providing an eco-friendly alternative to traditional transportation methods. The dataset we’re examining includes detailed trip information such as duration, start and end times, stations, and user demographics."
   ]
  },
  {
   "cell_type": "markdown",
   "id": "d5351288-d44e-4d7d-a7bb-428a1ff5db46",
   "metadata": {},
   "source": [
    "## Problem Statement"
   ]
  },
  {
   "cell_type": "markdown",
   "id": "2627836d-2b34-4bd0-aab9-4fb85fb2506a",
   "metadata": {},
   "source": [
    "With the wealth of data available from the Ford GoBike system, several key questions arise:"
   ]
  },
  {
   "cell_type": "markdown",
   "id": "e21c9bf7-76c3-4e6e-aa13-7041b2ea9f73",
   "metadata": {},
   "source": [
    "1. **How are trip durations distributed among users?**\n",
    "   Understanding the duration of bike trips helps in assessing user behavior and system performance.\n",
    "   \n",
    "2. **What is the distribution of user types in the GoBike sharing system?**\n",
    "   Identifying the proportion of different user types—subscribers versus customers—can shed light on user engagement and retention strategies.\n",
    "   \n",
    "3. **How does bike ride usage vary across different age groups?**\n",
    "   Knowing which age groups are most active can assist in tailoring services and marketing efforts to different demographics."
   ]
  },
  {
   "cell_type": "markdown",
   "id": "385b756b-f6d6-477b-984c-4df892d14bb4",
   "metadata": {},
   "source": [
    "## Dataset"
   ]
  },
  {
   "cell_type": "markdown",
   "id": "269faf51-9f4a-441d-91f0-27ef7f100a18",
   "metadata": {},
   "source": [
    "The data collect from Kaggle. You can access the dataset and more details [Ford GoBike System Data](https://www.kaggle.com/datasets/ahmedmohameddawoud/ford-gobike-system-data)"
   ]
  },
  {
   "cell_type": "markdown",
   "id": "76a91c99-f435-4118-b415-56ed12b8f80f",
   "metadata": {},
   "source": [
    "## Solution Statement"
   ]
  },
  {
   "cell_type": "markdown",
   "id": "67ec69fd-c8ad-425a-9d72-7277791a35a9",
   "metadata": {},
   "source": [
    "To address these questions, we analyzed the Ford GoBike dataset and visualized the results"
   ]
  },
  {
   "cell_type": "markdown",
   "id": "b1717f91-3a86-4a1c-a69c-961baf965979",
   "metadata": {},
   "source": [
    "## Analysis"
   ]
  },
  {
   "cell_type": "markdown",
   "id": "6ff8b39c-2d06-4ef4-ba09-36de378bba41",
   "metadata": {},
   "source": [
    "### Question 1: What is the distribution of trip durations in the dataset?"
   ]
  },
  {
   "cell_type": "markdown",
   "id": "879bbabe-b0ec-4a91-b317-a5da9fef665b",
   "metadata": {},
   "source": [
    "Calculations provided serve the purpose of visually and numerically summarizing the distribution of trip durations, specifically after applying a logarithmic transformation"
   ]
  },
  {
   "cell_type": "markdown",
   "id": "1092bd12-913c-48b4-beeb-eeff170ea609",
   "metadata": {},
   "source": [
    "![Trip Duration Distribution](./image/histogram-image.JPG)"
   ]
  },
  {
   "cell_type": "markdown",
   "id": "bf6d4f74-6d56-4180-8404-56fd1526f833",
   "metadata": {},
   "source": [
    "Answer: The histogram shows that trip durations are right-skewed, with a peak towards shorter durations and a long tail extending towards longer durations.<br>\n",
    "This range helps in understanding the variability of trip durations and identifying any exceptionally short or long trips that may warrant further investigation."
   ]
  },
  {
   "cell_type": "markdown",
   "id": "a0df6cfb-0438-4e83-99e0-afb35f2e0676",
   "metadata": {},
   "source": [
    "### Question 2: What is the distribution of user types in the GoBike sharing system?"
   ]
  },
  {
   "cell_type": "markdown",
   "id": "362e66a1-f7bf-4cd0-a476-ee9c2e6326d1",
   "metadata": {},
   "source": [
    "A pie chart illustrated that subscribers significantly outnumber customers. This insight indicates that regular users form the core of the GoBike service, emphasizing the importance of retaining these frequent riders."
   ]
  },
  {
   "cell_type": "markdown",
   "id": "587c0584-a548-42a2-a479-662925e89d3f",
   "metadata": {},
   "source": [
    "![User Type Distribution](./image/pie-chart-image.JPG)"
   ]
  },
  {
   "cell_type": "markdown",
   "id": "b6fb1cdb-be5c-4a0f-8b2f-0b1d406906c8",
   "metadata": {},
   "source": [
    "Answer: According to the chart, we see that the number of subscribers is more than customers, nearly 10 times more"
   ]
  },
  {
   "cell_type": "markdown",
   "id": "4699049d-fbeb-48fc-be7a-c59e4ba7456a",
   "metadata": {},
   "source": [
    "### Question 3: How does the percentage of bike rides vary across different age groups from 20 to 60 years old?"
   ]
  },
  {
   "cell_type": "markdown",
   "id": "4810fd81-c7c0-4b27-a7b1-49c6cff9285c",
   "metadata": {},
   "source": [
    "We created a bar plot to show how bike usage varies across different age groups from 20 to 60 years old. This visualization helps identify which age groups are most engaged with the service, providing valuable information for targeted marketing and service improvement."
   ]
  },
  {
   "cell_type": "markdown",
   "id": "5dd2afe8-90c5-4f69-8527-3ae9586f1aa6",
   "metadata": {},
   "source": [
    " ![Age Group Usage](./image/bar-plot-image.JPG)"
   ]
  },
  {
   "cell_type": "markdown",
   "id": "a541eaac-6c07-4483-8394-386a232cacd0",
   "metadata": {},
   "source": [
    "Answer: The plot helps identify which age groups contribute the most to bike ride usage within the specified range of 20 to 60 years old.\n",
    "The bar plot visually compares the percentage of bike rides across different age groups"
   ]
  },
  {
   "cell_type": "markdown",
   "id": "c050b76c-f338-43ad-9f81-c663806659e8",
   "metadata": {},
   "source": [
    "### Correlation analysis"
   ]
  },
  {
   "cell_type": "markdown",
   "id": "59d7278b-7969-4b05-9ebf-842b0a248831",
   "metadata": {},
   "source": [
    "Additionally, a correlation analysis revealed minimal relationships between ride duration and user age, as well as no significant correlation between ride duration and the latitude of starting stations. This suggests that while user demographics and station locations may have some impact, they are not major factors influencing ride duration."
   ]
  },
  {
   "cell_type": "markdown",
   "id": "6cbe52b3-792d-484b-a444-b172082f0a45",
   "metadata": {},
   "source": [
    "![Correlation Heatmap](./image/heatmap-image.JPG)"
   ]
  },
  {
   "cell_type": "markdown",
   "id": "f4b5d15b-fabf-435f-bb2a-b7916c474d23",
   "metadata": {},
   "source": [
    "The heatmap shows a weak positive correlation between duration_sec and member_age, with a correlation coefficient of around 0.003 The heatmap reveals no significant correlation between duration_sec and start_station_latitude. The correlation coefficient is close to zero, indicating that the latitude of the starting station does not influence ride duration."
   ]
  },
  {
   "cell_type": "markdown",
   "id": "633fbfae-5233-4831-b037-47b9027f1b43",
   "metadata": {},
   "source": [
    "These insights help in understanding user behavior and optimizing the GoBike system to better meet the needs of its diverse user base."
   ]
  },
  {
   "cell_type": "markdown",
   "id": "77610b9d-5484-4090-9d91-168e726a08c9",
   "metadata": {},
   "source": [
    "- **There’s a very weak positive correlation** between ride duration and user age.\n",
    "- **There’s no significant correlation** between ride duration and the latitude of the starting station."
   ]
  },
  {
   "cell_type": "markdown",
   "id": "503d8c29-05b7-47c4-8831-ec3afa0eb800",
   "metadata": {},
   "source": [
    "**Key Insight:** Age has a minimal impact on ride duration, and the starting station’s location doesn’t significantly affect how long people ride."
   ]
  },
  {
   "cell_type": "markdown",
   "id": "82b56699-c18d-45dc-8716-787bb7d16398",
   "metadata": {},
   "source": [
    "We hope these insights help you understand more about how people use the GoBike system. For a deeper dive into the technical aspects of the analysis, including methodologies and detailed results, check out our detailed report on GitHub"
   ]
  },
  {
   "cell_type": "markdown",
   "id": "ffe74fe6-5fc5-4bb0-becc-12304f07f02f",
   "metadata": {},
   "source": [
    "Happy biking! 🚴‍♀️🚴‍♂️"
   ]
  }
 ],
 "metadata": {
  "kernelspec": {
   "display_name": "Python 3 (ipykernel)",
   "language": "python",
   "name": "python3"
  },
  "language_info": {
   "codemirror_mode": {
    "name": "ipython",
    "version": 3
   },
   "file_extension": ".py",
   "mimetype": "text/x-python",
   "name": "python",
   "nbconvert_exporter": "python",
   "pygments_lexer": "ipython3",
   "version": "3.11.4"
  }
 },
 "nbformat": 4,
 "nbformat_minor": 5
}
